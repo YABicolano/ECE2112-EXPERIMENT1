{
 "cells": [
  {
   "cell_type": "markdown",
   "id": "2ee81915-705b-4e1c-80cb-e63f4ae2bcfc",
   "metadata": {},
   "source": [
    "## ALPHABET SOUP PROBLEM"
   ]
  },
  {
   "cell_type": "code",
   "execution_count": 25,
   "id": "46ba3fa7-fecb-4103-a68e-bb1c35299fb1",
   "metadata": {},
   "outputs": [
    {
     "name": "stdin",
     "output_type": "stream",
     "text": [
      "Enter a string:  ANDRE\n"
     ]
    },
    {
     "name": "stdout",
     "output_type": "stream",
     "text": [
      "ADENR\n"
     ]
    }
   ],
   "source": [
    "a= input(\"Enter a string: \")\n",
    "b= ''.join(sorted(a))\n",
    "print(b)"
   ]
  },
  {
   "cell_type": "markdown",
   "id": "c855c7ac-6235-40c7-8e2b-9d8b79312713",
   "metadata": {},
   "source": [
    "## EMOTICON PROBLEM"
   ]
  },
  {
   "cell_type": "code",
   "execution_count": 86,
   "id": "f344f77b-35b1-4de8-ac8f-cf39a81e8a7d",
   "metadata": {},
   "outputs": [
    {
     "name": "stdout",
     "output_type": "stream",
     "text": [
      "WELCOME TO EMOTICON\n",
      "KEYWORDS (case sensitive): smile, grin, sad, mad\n"
     ]
    },
    {
     "name": "stdin",
     "output_type": "stream",
     "text": [
      "Enter a sentence with the keywords:  Im always mad at you\n"
     ]
    },
    {
     "name": "stdout",
     "output_type": "stream",
     "text": [
      "Im always >:( at you\n"
     ]
    }
   ],
   "source": [
    "print(\"WELCOME TO EMOTICON\")                                 #start\n",
    "print(\"KEYWORDS (case sensitive): smile, grin, sad, mad\")    #inform the user of the specific keywords to be used\n",
    "\n",
    "sentence= input(\"Enter a sentence with the keywords: \")      #ask user for input\n",
    "\n",
    "#Create an if ladder for each condition\n",
    "\n",
    "if \"smile\" in sentence:                                     #Create a function that identifies the word \"smile\" in the string input\n",
    "    sentence_new= sentence.replace(\"smile\",\":)\")            #create a function that will replace the word smile with \":)\"\n",
    "    print(sentence_new)\n",
    "if \"grin\" in sentence:                                      #Create a function that identifies the word \"grin\" in the string input\n",
    "    sentence_new= sentence.replace(\"grin\",\":D\")             #create a function that will replace the word grin with \":D\"\n",
    "    print(sentence_new)\n",
    "if \"sad\" in sentence:                                       #Create a function that identifies the word \"sad\" in the string input\n",
    "    sentence_new= sentence.replace(\"sad\",\":((\")             #create a function that will replace the word sad with \":((\"\n",
    "    print(sentence_new)\n",
    "if \"mad\" in sentence:                                       #Create a function that identifies the word \"mad\" in the string input\n",
    "    sentence_new= sentence.replace(\"mad\",\">:(\")             #create a function that will replace the word mad with \">:(\"\n",
    "    print(sentence_new)                                       #end\n",
    "\n"
   ]
  },
  {
   "cell_type": "markdown",
   "id": "aa922690-2a46-4970-91c6-c0e7696d4d5d",
   "metadata": {},
   "source": [
    "## UNPACKING LIST PROBLEM"
   ]
  },
  {
   "cell_type": "code",
   "execution_count": 78,
   "id": "c3e18c6d-7e09-4d73-9097-156c79e55164",
   "metadata": {},
   "outputs": [
    {
     "name": "stdout",
     "output_type": "stream",
     "text": [
      "First: B\n",
      "Middle: ['C', 'O', 'P', 'A', 'L']\n",
      "Last:  Z\n"
     ]
    }
   ],
   "source": [
    "                                              #start\n",
    "list1 = ['B', 'C', 'O', 'P', 'A', 'L', 'Z']   #initalize the lists\n",
    "print(f\"First: {list1[0]}\")                    #create a function that prints the first element in the list\n",
    "print(f\"Middle: {list1[1:6]}\")                 #create a function that prints the elements in the middle\n",
    "print(f\"Last:  {list1[6]}\")                    #create a function that prints the last element\n",
    "                                               #end"
   ]
  },
  {
   "cell_type": "code",
   "execution_count": null,
   "id": "2c94404a-3fbe-49d4-8d22-a52860b9da40",
   "metadata": {},
   "outputs": [],
   "source": []
  }
 ],
 "metadata": {
  "kernelspec": {
   "display_name": "Python 3 (ipykernel)",
   "language": "python",
   "name": "python3"
  },
  "language_info": {
   "codemirror_mode": {
    "name": "ipython",
    "version": 3
   },
   "file_extension": ".py",
   "mimetype": "text/x-python",
   "name": "python",
   "nbconvert_exporter": "python",
   "pygments_lexer": "ipython3",
   "version": "3.12.4"
  }
 },
 "nbformat": 4,
 "nbformat_minor": 5
}
